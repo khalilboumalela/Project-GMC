{
 "cells": [
  {
   "cell_type": "code",
   "execution_count": 89,
   "metadata": {},
   "outputs": [],
   "source": [
    "import matplotlib.pyplot as plt\n",
    "import pandas as pd\n",
    "import seaborn as sns\n",
    "from sklearn.model_selection import train_test_split\n",
    "from sklearn.linear_model import LinearRegression\n",
    "from sklearn.metrics import mean_squared_error\n",
    "from sklearn import metrics\n",
    "from sklearn.linear_model import LinearRegression\n",
    "from sklearn.preprocessing import PolynomialFeatures\n"
   ]
  },
  {
   "cell_type": "code",
   "execution_count": 90,
   "metadata": {},
   "outputs": [],
   "source": [
    "\n",
    "\n",
    "pl= pd.read_table(\"C:\\\\Users\\\\khlil\\\\Downloads\\\\all_seasons.csv\" , delimiter =\",\" )"
   ]
  },
  {
   "cell_type": "code",
   "execution_count": 106,
   "metadata": {},
   "outputs": [
    {
     "data": {
      "text/html": [
       "<div>\n",
       "<style scoped>\n",
       "    .dataframe tbody tr th:only-of-type {\n",
       "        vertical-align: middle;\n",
       "    }\n",
       "\n",
       "    .dataframe tbody tr th {\n",
       "        vertical-align: top;\n",
       "    }\n",
       "\n",
       "    .dataframe thead th {\n",
       "        text-align: right;\n",
       "    }\n",
       "</style>\n",
       "<table border=\"1\" class=\"dataframe\">\n",
       "  <thead>\n",
       "    <tr style=\"text-align: right;\">\n",
       "      <th></th>\n",
       "      <th>Unnamed: 0</th>\n",
       "      <th>player_name</th>\n",
       "      <th>team_abbreviation</th>\n",
       "      <th>age</th>\n",
       "      <th>player_height</th>\n",
       "      <th>player_weight</th>\n",
       "      <th>college</th>\n",
       "      <th>country</th>\n",
       "      <th>draft_year</th>\n",
       "      <th>draft_round</th>\n",
       "      <th>...</th>\n",
       "      <th>reb</th>\n",
       "      <th>ast</th>\n",
       "      <th>net_rating</th>\n",
       "      <th>oreb_pct</th>\n",
       "      <th>dreb_pct</th>\n",
       "      <th>usg_pct</th>\n",
       "      <th>ts_pct</th>\n",
       "      <th>ast_pct</th>\n",
       "      <th>season</th>\n",
       "      <th>year</th>\n",
       "    </tr>\n",
       "  </thead>\n",
       "  <tbody>\n",
       "    <tr>\n",
       "      <th>11135</th>\n",
       "      <td>11135</td>\n",
       "      <td>Matisse Thybulle</td>\n",
       "      <td>PHI</td>\n",
       "      <td>23.0</td>\n",
       "      <td>195.58</td>\n",
       "      <td>91.171992</td>\n",
       "      <td>Washington</td>\n",
       "      <td>USA</td>\n",
       "      <td>2019</td>\n",
       "      <td>1</td>\n",
       "      <td>...</td>\n",
       "      <td>1.5</td>\n",
       "      <td>1.2</td>\n",
       "      <td>1.2</td>\n",
       "      <td>0.031</td>\n",
       "      <td>0.047</td>\n",
       "      <td>0.111</td>\n",
       "      <td>0.522</td>\n",
       "      <td>0.085</td>\n",
       "      <td>2019-20</td>\n",
       "      <td>2019</td>\n",
       "    </tr>\n",
       "    <tr>\n",
       "      <th>11136</th>\n",
       "      <td>11136</td>\n",
       "      <td>Matt Mooney</td>\n",
       "      <td>CLE</td>\n",
       "      <td>23.0</td>\n",
       "      <td>187.96</td>\n",
       "      <td>90.264808</td>\n",
       "      <td>Texas Tech</td>\n",
       "      <td>USA</td>\n",
       "      <td>Undrafted</td>\n",
       "      <td>Undrafted</td>\n",
       "      <td>...</td>\n",
       "      <td>0.3</td>\n",
       "      <td>0.3</td>\n",
       "      <td>7.7</td>\n",
       "      <td>0.000</td>\n",
       "      <td>0.250</td>\n",
       "      <td>0.111</td>\n",
       "      <td>0.500</td>\n",
       "      <td>0.200</td>\n",
       "      <td>2019-20</td>\n",
       "      <td>2019</td>\n",
       "    </tr>\n",
       "    <tr>\n",
       "      <th>11137</th>\n",
       "      <td>11137</td>\n",
       "      <td>Matthew Dellavedova</td>\n",
       "      <td>CLE</td>\n",
       "      <td>29.0</td>\n",
       "      <td>190.50</td>\n",
       "      <td>90.718400</td>\n",
       "      <td>St. Mary's (CA)</td>\n",
       "      <td>Australia</td>\n",
       "      <td>Undrafted</td>\n",
       "      <td>Undrafted</td>\n",
       "      <td>...</td>\n",
       "      <td>1.3</td>\n",
       "      <td>2.9</td>\n",
       "      <td>-0.9</td>\n",
       "      <td>0.024</td>\n",
       "      <td>0.069</td>\n",
       "      <td>0.129</td>\n",
       "      <td>0.445</td>\n",
       "      <td>0.292</td>\n",
       "      <td>2019-20</td>\n",
       "      <td>2019</td>\n",
       "    </tr>\n",
       "    <tr>\n",
       "      <th>11138</th>\n",
       "      <td>11138</td>\n",
       "      <td>Maurice Harkless</td>\n",
       "      <td>NYK</td>\n",
       "      <td>26.0</td>\n",
       "      <td>200.66</td>\n",
       "      <td>99.790240</td>\n",
       "      <td>St. John's, N.Y.</td>\n",
       "      <td>USA</td>\n",
       "      <td>2012</td>\n",
       "      <td>1</td>\n",
       "      <td>...</td>\n",
       "      <td>3.9</td>\n",
       "      <td>1.0</td>\n",
       "      <td>1.9</td>\n",
       "      <td>0.038</td>\n",
       "      <td>0.119</td>\n",
       "      <td>0.104</td>\n",
       "      <td>0.575</td>\n",
       "      <td>0.059</td>\n",
       "      <td>2019-20</td>\n",
       "      <td>2019</td>\n",
       "    </tr>\n",
       "    <tr>\n",
       "      <th>11139</th>\n",
       "      <td>11139</td>\n",
       "      <td>Max Strus</td>\n",
       "      <td>CHI</td>\n",
       "      <td>23.0</td>\n",
       "      <td>195.58</td>\n",
       "      <td>97.522280</td>\n",
       "      <td>None</td>\n",
       "      <td>USA</td>\n",
       "      <td>Undrafted</td>\n",
       "      <td>Undrafted</td>\n",
       "      <td>...</td>\n",
       "      <td>0.5</td>\n",
       "      <td>0.0</td>\n",
       "      <td>105.8</td>\n",
       "      <td>0.167</td>\n",
       "      <td>0.000</td>\n",
       "      <td>0.158</td>\n",
       "      <td>0.727</td>\n",
       "      <td>0.000</td>\n",
       "      <td>2019-20</td>\n",
       "      <td>2019</td>\n",
       "    </tr>\n",
       "    <tr>\n",
       "      <th>11140</th>\n",
       "      <td>11140</td>\n",
       "      <td>Maxi Kleber</td>\n",
       "      <td>DAL</td>\n",
       "      <td>28.0</td>\n",
       "      <td>208.28</td>\n",
       "      <td>108.862080</td>\n",
       "      <td>None</td>\n",
       "      <td>Germany</td>\n",
       "      <td>Undrafted</td>\n",
       "      <td>Undrafted</td>\n",
       "      <td>...</td>\n",
       "      <td>5.4</td>\n",
       "      <td>1.1</td>\n",
       "      <td>4.6</td>\n",
       "      <td>0.056</td>\n",
       "      <td>0.140</td>\n",
       "      <td>0.136</td>\n",
       "      <td>0.605</td>\n",
       "      <td>0.064</td>\n",
       "      <td>2019-20</td>\n",
       "      <td>2019</td>\n",
       "    </tr>\n",
       "    <tr>\n",
       "      <th>11141</th>\n",
       "      <td>11141</td>\n",
       "      <td>Melvin Frazier Jr.</td>\n",
       "      <td>ORL</td>\n",
       "      <td>23.0</td>\n",
       "      <td>195.58</td>\n",
       "      <td>97.522280</td>\n",
       "      <td>Tulane</td>\n",
       "      <td>USA</td>\n",
       "      <td>2018</td>\n",
       "      <td>2</td>\n",
       "      <td>...</td>\n",
       "      <td>0.3</td>\n",
       "      <td>0.1</td>\n",
       "      <td>-2.4</td>\n",
       "      <td>0.018</td>\n",
       "      <td>0.058</td>\n",
       "      <td>0.164</td>\n",
       "      <td>0.480</td>\n",
       "      <td>0.033</td>\n",
       "      <td>2019-20</td>\n",
       "      <td>2019</td>\n",
       "    </tr>\n",
       "    <tr>\n",
       "      <th>11142</th>\n",
       "      <td>11142</td>\n",
       "      <td>Meyers Leonard</td>\n",
       "      <td>MIA</td>\n",
       "      <td>28.0</td>\n",
       "      <td>213.36</td>\n",
       "      <td>117.933920</td>\n",
       "      <td>Illinois</td>\n",
       "      <td>USA</td>\n",
       "      <td>2012</td>\n",
       "      <td>1</td>\n",
       "      <td>...</td>\n",
       "      <td>5.1</td>\n",
       "      <td>1.1</td>\n",
       "      <td>5.6</td>\n",
       "      <td>0.029</td>\n",
       "      <td>0.217</td>\n",
       "      <td>0.120</td>\n",
       "      <td>0.640</td>\n",
       "      <td>0.076</td>\n",
       "      <td>2019-20</td>\n",
       "      <td>2019</td>\n",
       "    </tr>\n",
       "    <tr>\n",
       "      <th>11143</th>\n",
       "      <td>11143</td>\n",
       "      <td>Norvel Pelle</td>\n",
       "      <td>PHI</td>\n",
       "      <td>27.0</td>\n",
       "      <td>208.28</td>\n",
       "      <td>104.779752</td>\n",
       "      <td>None</td>\n",
       "      <td>USA</td>\n",
       "      <td>Undrafted</td>\n",
       "      <td>Undrafted</td>\n",
       "      <td>...</td>\n",
       "      <td>3.0</td>\n",
       "      <td>0.4</td>\n",
       "      <td>-16.4</td>\n",
       "      <td>0.085</td>\n",
       "      <td>0.237</td>\n",
       "      <td>0.126</td>\n",
       "      <td>0.521</td>\n",
       "      <td>0.056</td>\n",
       "      <td>2019-20</td>\n",
       "      <td>2019</td>\n",
       "    </tr>\n",
       "    <tr>\n",
       "      <th>11144</th>\n",
       "      <td>11144</td>\n",
       "      <td>Matt Thomas</td>\n",
       "      <td>TOR</td>\n",
       "      <td>25.0</td>\n",
       "      <td>193.04</td>\n",
       "      <td>86.182480</td>\n",
       "      <td>Iowa State</td>\n",
       "      <td>USA</td>\n",
       "      <td>Undrafted</td>\n",
       "      <td>Undrafted</td>\n",
       "      <td>...</td>\n",
       "      <td>1.4</td>\n",
       "      <td>0.5</td>\n",
       "      <td>1.0</td>\n",
       "      <td>0.017</td>\n",
       "      <td>0.104</td>\n",
       "      <td>0.149</td>\n",
       "      <td>0.663</td>\n",
       "      <td>0.089</td>\n",
       "      <td>2019-20</td>\n",
       "      <td>2019</td>\n",
       "    </tr>\n",
       "  </tbody>\n",
       "</table>\n",
       "<p>10 rows × 23 columns</p>\n",
       "</div>"
      ],
      "text/plain": [
       "       Unnamed: 0          player_name team_abbreviation   age  player_height  \\\n",
       "11135       11135     Matisse Thybulle               PHI  23.0         195.58   \n",
       "11136       11136          Matt Mooney               CLE  23.0         187.96   \n",
       "11137       11137  Matthew Dellavedova               CLE  29.0         190.50   \n",
       "11138       11138     Maurice Harkless               NYK  26.0         200.66   \n",
       "11139       11139            Max Strus               CHI  23.0         195.58   \n",
       "11140       11140          Maxi Kleber               DAL  28.0         208.28   \n",
       "11141       11141   Melvin Frazier Jr.               ORL  23.0         195.58   \n",
       "11142       11142       Meyers Leonard               MIA  28.0         213.36   \n",
       "11143       11143         Norvel Pelle               PHI  27.0         208.28   \n",
       "11144       11144          Matt Thomas               TOR  25.0         193.04   \n",
       "\n",
       "       player_weight           college    country draft_year draft_round  \\\n",
       "11135      91.171992        Washington        USA       2019           1   \n",
       "11136      90.264808        Texas Tech        USA  Undrafted   Undrafted   \n",
       "11137      90.718400   St. Mary's (CA)  Australia  Undrafted   Undrafted   \n",
       "11138      99.790240  St. John's, N.Y.        USA       2012           1   \n",
       "11139      97.522280              None        USA  Undrafted   Undrafted   \n",
       "11140     108.862080              None    Germany  Undrafted   Undrafted   \n",
       "11141      97.522280            Tulane        USA       2018           2   \n",
       "11142     117.933920          Illinois        USA       2012           1   \n",
       "11143     104.779752              None        USA  Undrafted   Undrafted   \n",
       "11144      86.182480        Iowa State        USA  Undrafted   Undrafted   \n",
       "\n",
       "       ...   reb  ast  net_rating  oreb_pct  dreb_pct  usg_pct  ts_pct  \\\n",
       "11135  ...   1.5  1.2         1.2     0.031     0.047    0.111   0.522   \n",
       "11136  ...   0.3  0.3         7.7     0.000     0.250    0.111   0.500   \n",
       "11137  ...   1.3  2.9        -0.9     0.024     0.069    0.129   0.445   \n",
       "11138  ...   3.9  1.0         1.9     0.038     0.119    0.104   0.575   \n",
       "11139  ...   0.5  0.0       105.8     0.167     0.000    0.158   0.727   \n",
       "11140  ...   5.4  1.1         4.6     0.056     0.140    0.136   0.605   \n",
       "11141  ...   0.3  0.1        -2.4     0.018     0.058    0.164   0.480   \n",
       "11142  ...   5.1  1.1         5.6     0.029     0.217    0.120   0.640   \n",
       "11143  ...   3.0  0.4       -16.4     0.085     0.237    0.126   0.521   \n",
       "11144  ...   1.4  0.5         1.0     0.017     0.104    0.149   0.663   \n",
       "\n",
       "       ast_pct   season  year  \n",
       "11135    0.085  2019-20  2019  \n",
       "11136    0.200  2019-20  2019  \n",
       "11137    0.292  2019-20  2019  \n",
       "11138    0.059  2019-20  2019  \n",
       "11139    0.000  2019-20  2019  \n",
       "11140    0.064  2019-20  2019  \n",
       "11141    0.033  2019-20  2019  \n",
       "11142    0.076  2019-20  2019  \n",
       "11143    0.056  2019-20  2019  \n",
       "11144    0.089  2019-20  2019  \n",
       "\n",
       "[10 rows x 23 columns]"
      ]
     },
     "execution_count": 106,
     "metadata": {},
     "output_type": "execute_result"
    }
   ],
   "source": [
    "pl.tail(10)\n"
   ]
  },
  {
   "cell_type": "code",
   "execution_count": 107,
   "metadata": {},
   "outputs": [
    {
     "data": {
      "text/plain": [
       "Unnamed: 0           0\n",
       "player_name          0\n",
       "team_abbreviation    0\n",
       "age                  0\n",
       "player_height        0\n",
       "player_weight        0\n",
       "college              0\n",
       "country              0\n",
       "draft_year           0\n",
       "draft_round          0\n",
       "draft_number         0\n",
       "gp                   0\n",
       "pts                  0\n",
       "reb                  0\n",
       "ast                  0\n",
       "net_rating           0\n",
       "oreb_pct             0\n",
       "dreb_pct             0\n",
       "usg_pct              0\n",
       "ts_pct               0\n",
       "ast_pct              0\n",
       "season               0\n",
       "year                 0\n",
       "dtype: int64"
      ]
     },
     "execution_count": 107,
     "metadata": {},
     "output_type": "execute_result"
    }
   ],
   "source": [
    "pl.isnull().sum()"
   ]
  },
  {
   "cell_type": "code",
   "execution_count": 93,
   "metadata": {},
   "outputs": [],
   "source": [
    "def plot_correlation_map( df ):\n",
    "\n",
    "    corr = df.corr()\n",
    "\n",
    "    s , ax = plt.subplots( figsize =( 12 , 10 ) )\n",
    "\n",
    "    cmap = sns.diverging_palette( 220 , 10 , as_cmap = True )\n",
    "\n",
    "    s = sns.heatmap(\n",
    "\n",
    "        corr, \n",
    "\n",
    "        cmap = cmap,\n",
    "\n",
    "        square=True, \n",
    "\n",
    "        cbar_kws={ 'shrink' : .9 }, \n",
    "\n",
    "        ax=ax, \n",
    "\n",
    "        annot = True, \n",
    "\n",
    "        annot_kws = { 'fontsize' : 12 }\n",
    "\n",
    "        )"
   ]
  },
  {
   "cell_type": "code",
   "execution_count": 94,
   "metadata": {},
   "outputs": [
    {
     "data": {
      "text/plain": [
       "<matplotlib.axes._subplots.AxesSubplot at 0x2ebb519cda0>"
      ]
     },
     "execution_count": 94,
     "metadata": {},
     "output_type": "execute_result"
    },
    {
     "data": {
      "image/png": "[encoded data removed]",
      "text/plain": [
       "<Figure size 432x288 with 2 Axes>"
      ]
     },
     "metadata": {
      "needs_background": "light"
     },
     "output_type": "display_data"
    }
   ],
   "source": [
    "#plot_correlation_map(pl)\n",
    "sns.heatmap(pl[['pts','reb','player_height','player_weight','draft_number','net_rating','usg_pct','ts_pct','oreb_pct','dreb_pct']].corr())\n",
    "#correlation between features in dataset"
   ]
  },
  {
   "cell_type": "code",
   "execution_count": 95,
   "metadata": {},
   "outputs": [
    {
     "data": {
      "text/plain": [
       "<matplotlib.axes._subplots.AxesSubplot at 0x2ebb7d2e6d8>"
      ]
     },
     "execution_count": 95,
     "metadata": {},
     "output_type": "execute_result"
    },
    {
     "data": {
      "image/png": "[encoded data removed]",
      "text/plain": [
       "<Figure size 432x288 with 1 Axes>"
      ]
     },
     "metadata": {
      "needs_background": "light"
     },
     "output_type": "display_data"
    }
   ],
   "source": [
    "plt.title(\"PPG\")\n",
    "plt.xlabel(\"Number\")\n",
    "pl['pts'].plot.hist() #points per game and how often high scoring seasons happen (ps:very often)"
   ]
  },
  {
   "cell_type": "code",
   "execution_count": 96,
   "metadata": {},
   "outputs": [
    {
     "data": {
      "text/plain": [
       "<matplotlib.axes._subplots.AxesSubplot at 0x2ebb7cfe080>"
      ]
     },
     "execution_count": 96,
     "metadata": {},
     "output_type": "execute_result"
    },
    {
     "data": {
      "image/png": "[encoded data removed]",
      "text/plain": [
       "<Figure size 432x288 with 1 Axes>"
      ]
     },
     "metadata": {
      "needs_background": "light"
     },
     "output_type": "display_data"
    }
   ],
   "source": [
    "plt.xlabel(\"Age\")\n",
    "plt.ylabel(\"Number\")\n",
    "plt.title(\"Plot bar\")\n",
    "vc=pl['age'].value_counts()\n",
    "vc.plot.bar(rot=90)  #age of different players through the years"
   ]
  },
  {
   "cell_type": "code",
   "execution_count": 97,
   "metadata": {},
   "outputs": [
    {
     "data": {
      "text/html": [
       "<div>\n",
       "<style scoped>\n",
       "    .dataframe tbody tr th:only-of-type {\n",
       "        vertical-align: middle;\n",
       "    }\n",
       "\n",
       "    .dataframe tbody tr th {\n",
       "        vertical-align: top;\n",
       "    }\n",
       "\n",
       "    .dataframe thead th {\n",
       "        text-align: right;\n",
       "    }\n",
       "</style>\n",
       "<table border=\"1\" class=\"dataframe\">\n",
       "  <thead>\n",
       "    <tr style=\"text-align: right;\">\n",
       "      <th></th>\n",
       "      <th>reb</th>\n",
       "    </tr>\n",
       "    <tr>\n",
       "      <th>player_height</th>\n",
       "      <th></th>\n",
       "    </tr>\n",
       "  </thead>\n",
       "  <tbody>\n",
       "    <tr>\n",
       "      <th>160.02</th>\n",
       "      <td>1.820000</td>\n",
       "    </tr>\n",
       "    <tr>\n",
       "      <th>165.10</th>\n",
       "      <td>1.253846</td>\n",
       "    </tr>\n",
       "    <tr>\n",
       "      <th>167.64</th>\n",
       "      <td>0.800000</td>\n",
       "    </tr>\n",
       "    <tr>\n",
       "      <th>175.26</th>\n",
       "      <td>1.945833</td>\n",
       "    </tr>\n",
       "    <tr>\n",
       "      <th>177.80</th>\n",
       "      <td>1.863462</td>\n",
       "    </tr>\n",
       "    <tr>\n",
       "      <th>180.34</th>\n",
       "      <td>1.534615</td>\n",
       "    </tr>\n",
       "    <tr>\n",
       "      <th>182.88</th>\n",
       "      <td>2.119291</td>\n",
       "    </tr>\n",
       "    <tr>\n",
       "      <th>183.00</th>\n",
       "      <td>0.600000</td>\n",
       "    </tr>\n",
       "    <tr>\n",
       "      <th>185.42</th>\n",
       "      <td>2.275682</td>\n",
       "    </tr>\n",
       "    <tr>\n",
       "      <th>187.96</th>\n",
       "      <td>1.843952</td>\n",
       "    </tr>\n",
       "    <tr>\n",
       "      <th>190.50</th>\n",
       "      <td>2.353113</td>\n",
       "    </tr>\n",
       "    <tr>\n",
       "      <th>193.04</th>\n",
       "      <td>2.347658</td>\n",
       "    </tr>\n",
       "    <tr>\n",
       "      <th>195.58</th>\n",
       "      <td>2.450805</td>\n",
       "    </tr>\n",
       "    <tr>\n",
       "      <th>196.00</th>\n",
       "      <td>1.120000</td>\n",
       "    </tr>\n",
       "    <tr>\n",
       "      <th>198.12</th>\n",
       "      <td>2.939651</td>\n",
       "    </tr>\n",
       "    <tr>\n",
       "      <th>200.66</th>\n",
       "      <td>3.339890</td>\n",
       "    </tr>\n",
       "    <tr>\n",
       "      <th>201.00</th>\n",
       "      <td>2.700000</td>\n",
       "    </tr>\n",
       "    <tr>\n",
       "      <th>203.00</th>\n",
       "      <td>1.500000</td>\n",
       "    </tr>\n",
       "    <tr>\n",
       "      <th>203.20</th>\n",
       "      <td>3.864090</td>\n",
       "    </tr>\n",
       "    <tr>\n",
       "      <th>205.74</th>\n",
       "      <td>4.364134</td>\n",
       "    </tr>\n",
       "    <tr>\n",
       "      <th>208.28</th>\n",
       "      <td>4.444219</td>\n",
       "    </tr>\n",
       "    <tr>\n",
       "      <th>210.82</th>\n",
       "      <td>5.351983</td>\n",
       "    </tr>\n",
       "    <tr>\n",
       "      <th>213.36</th>\n",
       "      <td>4.801486</td>\n",
       "    </tr>\n",
       "    <tr>\n",
       "      <th>215.90</th>\n",
       "      <td>5.501036</td>\n",
       "    </tr>\n",
       "    <tr>\n",
       "      <th>218.44</th>\n",
       "      <td>4.478049</td>\n",
       "    </tr>\n",
       "    <tr>\n",
       "      <th>220.98</th>\n",
       "      <td>5.153488</td>\n",
       "    </tr>\n",
       "    <tr>\n",
       "      <th>223.52</th>\n",
       "      <td>4.585714</td>\n",
       "    </tr>\n",
       "    <tr>\n",
       "      <th>226.06</th>\n",
       "      <td>2.950000</td>\n",
       "    </tr>\n",
       "    <tr>\n",
       "      <th>228.60</th>\n",
       "      <td>7.256250</td>\n",
       "    </tr>\n",
       "    <tr>\n",
       "      <th>231.14</th>\n",
       "      <td>2.966667</td>\n",
       "    </tr>\n",
       "  </tbody>\n",
       "</table>\n",
       "</div>"
      ],
      "text/plain": [
       "                    reb\n",
       "player_height          \n",
       "160.02         1.820000\n",
       "165.10         1.253846\n",
       "167.64         0.800000\n",
       "175.26         1.945833\n",
       "177.80         1.863462\n",
       "180.34         1.534615\n",
       "182.88         2.119291\n",
       "183.00         0.600000\n",
       "185.42         2.275682\n",
       "187.96         1.843952\n",
       "190.50         2.353113\n",
       "193.04         2.347658\n",
       "195.58         2.450805\n",
       "196.00         1.120000\n",
       "198.12         2.939651\n",
       "200.66         3.339890\n",
       "201.00         2.700000\n",
       "203.00         1.500000\n",
       "203.20         3.864090\n",
       "205.74         4.364134\n",
       "208.28         4.444219\n",
       "210.82         5.351983\n",
       "213.36         4.801486\n",
       "215.90         5.501036\n",
       "218.44         4.478049\n",
       "220.98         5.153488\n",
       "223.52         4.585714\n",
       "226.06         2.950000\n",
       "228.60         7.256250\n",
       "231.14         2.966667"
      ]
     },
     "execution_count": 97,
     "metadata": {},
     "output_type": "execute_result"
    }
   ],
   "source": [
    "pl[[\"reb\", \"player_height\"]].groupby([\"player_height\"], as_index=True).mean() #correlation between height and how many rebounds a player grabs (the taller the better obviously but it appears not)"
   ]
  },
  {
   "cell_type": "code",
   "execution_count": 111,
   "metadata": {},
   "outputs": [
    {
     "data": {
      "text/plain": [
       "<seaborn.axisgrid.FacetGrid at 0x2ebc7692fd0>"
      ]
     },
     "execution_count": 111,
     "metadata": {},
     "output_type": "execute_result"
    },
    {
     "data": {
      "image/png": "[encoded data removed]",
      "text/plain": [
       "<Figure size 5184x216 with 24 Axes>"
      ]
     },
     "metadata": {
      "needs_background": "light"
     },
     "output_type": "display_data"
    }
   ],
   "source": [
    "a=sns.FacetGrid(pl, col=\"year\")\n",
    "a.map(plt.hist ,'pts') #how points per game averages differ from year to year"
   ]
  },
  {
   "cell_type": "code",
   "execution_count": 113,
   "metadata": {},
   "outputs": [
    {
     "name": "stderr",
     "output_type": "stream",
     "text": [
      "C:\\ProgramData\\Anaconda3\\lib\\site-packages\\scipy\\stats\\stats.py:1713: FutureWarning: Using a non-tuple sequence for multidimensional indexing is deprecated; use `arr[tuple(seq)]` instead of `arr[seq]`. In the future this will be interpreted as an array index, `arr[np.array(seq)]`, which will result either in an error or a different result.\n",
      "  return np.add.reduce(sorted[indexer] * weights, axis=axis) / sumval\n"
     ]
    },
    {
     "data": {
      "text/plain": [
       "<matplotlib.axes._subplots.AxesSubplot at 0x2ebc8a94d68>"
      ]
     },
     "execution_count": 113,
     "metadata": {},
     "output_type": "execute_result"
    },
    {
     "data": {
      "image/png": "[encoded data removed]",
      "text/plain": [
       "<Figure size 432x288 with 1 Axes>"
      ]
     },
     "metadata": {
      "needs_background": "light"
     },
     "output_type": "display_data"
    }
   ],
   "source": [
    "sns.distplot(pl[\"pts\"],bins=30,kde=True,color=\"red\") #how probable it is for a player to have a high scoring season (the possibility a player would have a 30+ \n",
    "#scoring season is less than 0.05%)"
   ]
  },
  {
   "cell_type": "code",
   "execution_count": 100,
   "metadata": {},
   "outputs": [],
   "source": [
    "pl['year']= pl['season']\n",
    "pl['year'].replace({\n",
    "\"1996-97\":       1996,\n",
    "\"1997-98\":        1997,\n",
    "\"1998-99\":      1998,\n",
    "\"1999-00\":       1999,\n",
    " \"2000-01\":     2000,\n",
    " \"2001-02\":   2001,\n",
    " \"2002-03\":      2002,\n",
    "\"2003-04\" :      2003,\n",
    "\"2004-05\" :      2004,\n",
    "\"2005-06\": 2005,\n",
    "\"2006-07\":       2006,\n",
    "\"2007-08\":      2007,\n",
    "\"2008-09\":       2008,\n",
    "\"2009-10\" :     2009,\n",
    "\"2010-11\":         2010,\n",
    "\"2011-12\" :        2011,\n",
    "\"2012-13\" :      2012,\n",
    "\"2013-14\" :    2013 ,\n",
    "\"2014-15\" :     2014,\n",
    "\"2015-16\": 2015,\n",
    "\"2016-17\":       2016,\n",
    "\"2017-18\":       2017,\n",
    "\"2018-19\":      2018,\n",
    "\"2019-20\":       2019,},inplace=True)   "
   ]
  },
  {
   "cell_type": "code",
   "execution_count": 114,
   "metadata": {},
   "outputs": [],
   "source": [
    "#pl[pl.draft_year=='2018']\n",
    "y=pl['pts']\n",
    "x=pl[['age','player_height','player_weight','college','draft_number','gp','reb','ast','net_rating','oreb_pct','dreb_pct','usg_pct','ts_pct','ast_pct']]\n",
    "x_train=pl[pl.year<2019][['age','player_height','player_weight','gp','reb','ast','net_rating','oreb_pct','dreb_pct','usg_pct','ts_pct','ast_pct']]\n",
    "x_test= pl[pl.year>=2019][['age','player_height','player_weight','gp','reb','ast','net_rating','oreb_pct','dreb_pct','usg_pct','ts_pct','ast_pct']]\n",
    "y_train=pl[pl.year<2019]['pts']\n",
    "y_test= pl[pl.year>=2019]['pts']\n",
    "\n",
    "\n",
    "\n"
   ]
  },
  {
   "cell_type": "code",
   "execution_count": 115,
   "metadata": {},
   "outputs": [
    {
     "name": "stdout",
     "output_type": "stream",
     "text": [
      "MSE 6.218012922950474\n",
      "R squared 0.8550389410163745\n"
     ]
    }
   ],
   "source": [
    "model=LinearRegression()   #build linear regression model\n",
    "model.fit(x_train,y_train)  #fitting the training data\n",
    "predicted=model.predict(x_test) #testing our model’s performance\n",
    "print(\"MSE\", mean_squared_error(y_test,predicted))\n",
    "print(\"R squared\", metrics.r2_score(y_test,predicted))"
   ]
  },
  {
   "cell_type": "code",
   "execution_count": null,
   "metadata": {},
   "outputs": [],
   "source": []
  },
  {
   "cell_type": "code",
   "execution_count": 118,
   "metadata": {},
   "outputs": [
    {
     "data": {
      "text/plain": [
       "<matplotlib.collections.PathCollection at 0x2ebc9c36ef0>"
      ]
     },
     "execution_count": 118,
     "metadata": {},
     "output_type": "execute_result"
    },
    {
     "data": {
      "image/png": "[encoded data removed]",
      "text/plain": [
       "<Figure size 432x288 with 1 Axes>"
      ]
     },
     "metadata": {
      "needs_background": "light"
     },
     "output_type": "display_data"
    }
   ],
   "source": [
    "plt.scatter(x_train.ast,y_train,  color='black')"
   ]
  },
  {
   "cell_type": "markdown",
   "metadata": {},
   "source": [
    "plt.scatter(x.age,y,color=\"r\")\n",
    "plt.title(\"Linear Regression\")\n",
    "plt.ylabel(\"pts\")\n",
    "plt.xlabel(\"player_height\")\n",
    "plt.plot(x,model.predict(x),color=\"k\")\n",
    "plt.show()\n"
   ]
  },
  {
   "cell_type": "code",
   "execution_count": 103,
   "metadata": {},
   "outputs": [
    {
     "data": {
      "text/html": [
       "<div>\n",
       "<style scoped>\n",
       "    .dataframe tbody tr th:only-of-type {\n",
       "        vertical-align: middle;\n",
       "    }\n",
       "\n",
       "    .dataframe tbody tr th {\n",
       "        vertical-align: top;\n",
       "    }\n",
       "\n",
       "    .dataframe thead th {\n",
       "        text-align: right;\n",
       "    }\n",
       "</style>\n",
       "<table border=\"1\" class=\"dataframe\">\n",
       "  <thead>\n",
       "    <tr style=\"text-align: right;\">\n",
       "      <th></th>\n",
       "      <th>age</th>\n",
       "      <th>player_height</th>\n",
       "      <th>player_weight</th>\n",
       "      <th>gp</th>\n",
       "      <th>reb</th>\n",
       "      <th>ast</th>\n",
       "      <th>net_rating</th>\n",
       "      <th>oreb_pct</th>\n",
       "      <th>dreb_pct</th>\n",
       "      <th>usg_pct</th>\n",
       "      <th>ts_pct</th>\n",
       "      <th>ast_pct</th>\n",
       "    </tr>\n",
       "  </thead>\n",
       "  <tbody>\n",
       "    <tr>\n",
       "      <th>10631</th>\n",
       "      <td>26.0</td>\n",
       "      <td>200.66</td>\n",
       "      <td>104.326160</td>\n",
       "      <td>57</td>\n",
       "      <td>1.9</td>\n",
       "      <td>0.6</td>\n",
       "      <td>-2.1</td>\n",
       "      <td>0.015</td>\n",
       "      <td>0.119</td>\n",
       "      <td>0.160</td>\n",
       "      <td>0.615</td>\n",
       "      <td>0.067</td>\n",
       "    </tr>\n",
       "    <tr>\n",
       "      <th>10632</th>\n",
       "      <td>33.0</td>\n",
       "      <td>190.50</td>\n",
       "      <td>85.275296</td>\n",
       "      <td>51</td>\n",
       "      <td>3.0</td>\n",
       "      <td>2.9</td>\n",
       "      <td>11.7</td>\n",
       "      <td>0.039</td>\n",
       "      <td>0.086</td>\n",
       "      <td>0.155</td>\n",
       "      <td>0.675</td>\n",
       "      <td>0.192</td>\n",
       "    </tr>\n",
       "    <tr>\n",
       "      <th>10633</th>\n",
       "      <td>21.0</td>\n",
       "      <td>195.58</td>\n",
       "      <td>94.800728</td>\n",
       "      <td>52</td>\n",
       "      <td>1.7</td>\n",
       "      <td>0.9</td>\n",
       "      <td>-4.1</td>\n",
       "      <td>0.017</td>\n",
       "      <td>0.058</td>\n",
       "      <td>0.152</td>\n",
       "      <td>0.563</td>\n",
       "      <td>0.065</td>\n",
       "    </tr>\n",
       "    <tr>\n",
       "      <th>10634</th>\n",
       "      <td>27.0</td>\n",
       "      <td>190.50</td>\n",
       "      <td>88.450440</td>\n",
       "      <td>27</td>\n",
       "      <td>2.9</td>\n",
       "      <td>1.7</td>\n",
       "      <td>-15.0</td>\n",
       "      <td>0.054</td>\n",
       "      <td>0.122</td>\n",
       "      <td>0.132</td>\n",
       "      <td>0.473</td>\n",
       "      <td>0.159</td>\n",
       "    </tr>\n",
       "    <tr>\n",
       "      <th>10635</th>\n",
       "      <td>25.0</td>\n",
       "      <td>193.04</td>\n",
       "      <td>95.254320</td>\n",
       "      <td>54</td>\n",
       "      <td>2.9</td>\n",
       "      <td>2.1</td>\n",
       "      <td>3.9</td>\n",
       "      <td>0.015</td>\n",
       "      <td>0.078</td>\n",
       "      <td>0.151</td>\n",
       "      <td>0.513</td>\n",
       "      <td>0.091</td>\n",
       "    </tr>\n",
       "  </tbody>\n",
       "</table>\n",
       "</div>"
      ],
      "text/plain": [
       "        age  player_height  player_weight  gp  reb  ast  net_rating  oreb_pct  \\\n",
       "10631  26.0         200.66     104.326160  57  1.9  0.6        -2.1     0.015   \n",
       "10632  33.0         190.50      85.275296  51  3.0  2.9        11.7     0.039   \n",
       "10633  21.0         195.58      94.800728  52  1.7  0.9        -4.1     0.017   \n",
       "10634  27.0         190.50      88.450440  27  2.9  1.7       -15.0     0.054   \n",
       "10635  25.0         193.04      95.254320  54  2.9  2.1         3.9     0.015   \n",
       "\n",
       "       dreb_pct  usg_pct  ts_pct  ast_pct  \n",
       "10631     0.119    0.160   0.615    0.067  \n",
       "10632     0.086    0.155   0.675    0.192  \n",
       "10633     0.058    0.152   0.563    0.065  \n",
       "10634     0.122    0.132   0.473    0.159  \n",
       "10635     0.078    0.151   0.513    0.091  "
      ]
     },
     "execution_count": 103,
     "metadata": {},
     "output_type": "execute_result"
    }
   ],
   "source": [
    "x_test.head()"
   ]
  },
  {
   "cell_type": "code",
   "execution_count": 104,
   "metadata": {},
   "outputs": [
    {
     "data": {
      "text/plain": [
       "[<matplotlib.lines.Line2D at 0x2ebba30d860>]"
      ]
     },
     "execution_count": 104,
     "metadata": {},
     "output_type": "execute_result"
    },
    {
     "data": {
      "image/png": "[encoded data removed]",
      "text/plain": [
       "<Figure size 432x288 with 1 Axes>"
      ]
     },
     "metadata": {
      "needs_background": "light"
     },
     "output_type": "display_data"
    }
   ],
   "source": [
    "x= pl[\"pts\"].values.reshape(-1,1)\n",
    "y= pl[\"reb\"].values\n",
    "poly = PolynomialFeatures(degree = 2) \n",
    "x_poly = poly.fit_transform(x) \n",
    "poly.fit(x_poly, y) \n",
    "lg=LinearRegression()\n",
    "lg.fit(x_poly, y) \n",
    "\n",
    "plt.scatter(x, y, color=\"r\")\n",
    "plt.title(\"Linear regression\")\n",
    "plt.ylabel(\"pts\")\n",
    "plt.xlabel(\"rebounds\")\n",
    "plt.plot(x, lg.predict(poly.fit_transform(x)), color=\"k\")"
   ]
  },
  {
   "cell_type": "code",
   "execution_count": 105,
   "metadata": {},
   "outputs": [],
   "source": [
    "x_test['pts']=y_test \n"
   ]
  },
  {
   "cell_type": "code",
   "execution_count": 78,
   "metadata": {},
   "outputs": [],
   "source": []
  },
  {
   "cell_type": "code",
   "execution_count": null,
   "metadata": {},
   "outputs": [],
   "source": []
  }
 ],
 "metadata": {
  "kernelspec": {
   "display_name": "Python 3",
   "language": "python",
   "name": "python3"
  },
  "language_info": {
   "codemirror_mode": {
    "name": "ipython",
    "version": 3
   },
   "file_extension": ".py",
   "mimetype": "text/x-python",
   "name": "python",
   "nbconvert_exporter": "python",
   "pygments_lexer": "ipython3",
   "version": "3.7.0"
  }
 },
 "nbformat": 4,
 "nbformat_minor": 2
}
